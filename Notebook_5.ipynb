{
 "cells": [
  {
   "cell_type": "markdown",
   "metadata": {
    "id": "Gp2WddtV9IwG"
   },
   "source": [
    "# Programa Ingenias+ Data Science"
   ]
  },
  {
   "cell_type": "markdown",
   "metadata": {
    "id": "H4M1yVbf9IwH"
   },
   "source": [
    "Como dijimos en clases anteriores, Python tiene implementadas muchas librerias para poder trabajar con datos. En la clase de hoy trabajaremos con una de ellas: `Numpy`."
   ]
  },
  {
   "cell_type": "markdown",
   "metadata": {
    "id": "GdTT8WeL9IwI"
   },
   "source": [
    "Antes de comenzar, vamos a hablar un poco de esta libreria o modulo.\n",
    "\n",
    "**Numpy** es una librería optimizada para realizar cálculos numéricos con vectores y matrices. A diferencia de otros lenguajes de programación, Python no posee en su estructura central la figura de matrices. Eso quiere decir que para poder trabajar con esta estructura de datos deberiamos trabajar con listas de listas. NumPy introduce el concepto de arrays o matrices."
   ]
  },
  {
   "cell_type": "markdown",
   "metadata": {
    "id": "qWkq3EHK9IwK"
   },
   "source": [
    "Al ser de código abierto, `numpy` posee una documentación muy amplia que es **SIEMPRE RECOMENDABLE** consultar."
   ]
  },
  {
   "cell_type": "markdown",
   "metadata": {
    "id": "nxe3KLUO9IwL"
   },
   "source": [
    "- [Documentacion NumPy](https://devdocs.io/numpy/)"
   ]
  },
  {
   "cell_type": "markdown",
   "metadata": {
    "id": "l1Ay3nSs9IwN"
   },
   "source": [
    "## Clase 4: Introduccion a NumPy"
   ]
  },
  {
   "cell_type": "markdown",
   "metadata": {
    "id": "X03mviQS9IyL"
   },
   "source": [
    "# Ejercicios\n",
    "\n",
    "1. Crear un arreglo de ceros de longitud 12\n",
    "2. Crear un arreglo de longitud 10 con ceros en todas sus posiciones y un 10 en la posición número 5\n",
    "3. Crear un arreglo que tenga los números del 10 al 49\n",
    "4. Crear una arreglo 2d de shape (3, 3) que tenga los números del 0 al 8\n",
    "5. Crear un arreglo de números aleatorios de longitud 100 y obtener su media y varianza\n",
    "6. Calcular la media de un arreglo usando np.sum\n",
    "7. Calcular la varianza de un arreglo usando np.sum y np.mean\n",
    "8. Crear un array de números aleatorios usando np.random.randn.\n"
   ]
  },
  {
   "cell_type": "markdown",
   "metadata": {
    "id": "Z8bc1sESUfCw"
   },
   "source": [
    "En el ejercicio 1 creé un array de 12 ceros usando np.zeros()"
   ]
  },
  {
   "cell_type": "code",
   "execution_count": 4,
   "metadata": {
    "colab": {
     "base_uri": "https://localhost:8080/"
    },
    "id": "G0NMKT609IyM",
    "outputId": "3beeed81-e049-4015-adfc-1052ebf76d7a"
   },
   "outputs": [
    {
     "name": "stdout",
     "output_type": "stream",
     "text": [
      "[0 0 0 0 0 0 0 0 0 0 0 0]\n"
     ]
    }
   ],
   "source": [
    "import numpy as np\n",
    "\n",
    "ejercicio1=np.zeros((12,), dtype=int)\n",
    "\n",
    "print(ejercicio1)"
   ]
  },
  {
   "cell_type": "markdown",
   "metadata": {
    "id": "xMXqWsZYUO1f"
   },
   "source": [
    "En el ejercicio 2 creé un array a mano usando np.array([])"
   ]
  },
  {
   "cell_type": "code",
   "execution_count": 5,
   "metadata": {
    "colab": {
     "base_uri": "https://localhost:8080/"
    },
    "id": "1nwDKBf3N9_F",
    "outputId": "43f96c5e-4855-4bf2-cc2c-79e98c69a37a"
   },
   "outputs": [
    {
     "name": "stdout",
     "output_type": "stream",
     "text": [
      "[ 0  0  0  0  0 10  0  0  0  0  0]\n"
     ]
    }
   ],
   "source": [
    "import numpy as np\n",
    "\n",
    "ejercicio2=np.array([0, 0, 0, 0, 0, 10, 0, 0, 0, 0, 0])\n",
    "\n",
    "print(ejercicio2)"
   ]
  },
  {
   "cell_type": "markdown",
   "metadata": {
    "id": "gwrxG7o7Ut2I"
   },
   "source": [
    "Ejercicio 3: Crear un arreglo que tenga numeros del 10 al 49."
   ]
  },
  {
   "cell_type": "code",
   "execution_count": null,
   "metadata": {
    "colab": {
     "base_uri": "https://localhost:8080/"
    },
    "id": "Qxi-mP5RP8lM",
    "outputId": "874d68e5-69a8-4439-b713-44cc39b93dc0"
   },
   "outputs": [
    {
     "data": {
      "text/plain": [
       "array([10, 11, 12, 13, 14, 15, 16, 17, 18, 19, 20, 21, 22, 23, 24, 25, 26,\n",
       "       27, 28, 29, 30, 31, 32, 33, 34, 35, 36, 37, 38, 39, 40, 41, 42, 43,\n",
       "       44, 45, 46, 47, 48, 49])"
      ]
     },
     "execution_count": 3,
     "metadata": {},
     "output_type": "execute_result"
    }
   ],
   "source": [
    "import numpy as np\n",
    "\n",
    "np.arange(10,50,1) #arange goes start,stop,step\n"
   ]
  },
  {
   "cell_type": "markdown",
   "metadata": {
    "id": "v5AZ3RHIXIxJ"
   },
   "source": [
    "Ejercicio 4: Crear una arreglo 2d de shape (3, 3) que tenga los números del 0 al 8\n"
   ]
  },
  {
   "cell_type": "code",
   "execution_count": null,
   "metadata": {
    "colab": {
     "base_uri": "https://localhost:8080/"
    },
    "id": "9uLzD_ZlW83f",
    "outputId": "ab1cfc6c-0d8f-42bc-b72f-b0ec4b10b546"
   },
   "outputs": [
    {
     "name": "stdout",
     "output_type": "stream",
     "text": [
      "2\n"
     ]
    }
   ],
   "source": [
    "import numpy as np\n",
    "\n",
    "ej4 = np.array([np.arange(0,3,1), np.arange(3,6,1), np.arange(6,9,1)])\n",
    "\n",
    "print(ej4.ndim)"
   ]
  },
  {
   "cell_type": "markdown",
   "metadata": {
    "id": "tdZ00hJPXM1t"
   },
   "source": [
    "Ejercicio 5: Crear un arreglo de números aleatorios de longitud 100 y obtener su media y varianza\n"
   ]
  },
  {
   "cell_type": "code",
   "execution_count": 65,
   "metadata": {
    "id": "x8_Xx6drXRAV"
   },
   "outputs": [
    {
     "name": "stdout",
     "output_type": "stream",
     "text": [
      "Array de 100 números del 0 al 100:  [76 75 16 26 57 13 62 50 99 19 61 34 27 86 25 47 88 65 85 39 10  4 51 73\n",
      " 24 29 18 14 78 75 34 42 84 53 44 48 39  6 70 28 92 13 25  2 90 91 12 25\n",
      " 10 88 89 34  7 62 21 78  3 75 43 42 87 90 37 27  4 47  3 68 15 57 29 73\n",
      " 37  7 49 60 58 44 38 60 73 42 49 20 59 37  8 62 29 48 83  2 80 11 23 77\n",
      " 29 82 16 51]\n",
      "Media:  45.47\n",
      "Varianza:  751.3490999999999\n"
     ]
    }
   ],
   "source": [
    "import numpy as np\n",
    "\n",
    "array = np.random.randint(0,100,100) #low,high,size\n",
    "\n",
    "media = np.mean(array)\n",
    "\n",
    "varianza = np.var(array)\n",
    "\n",
    "print(\"Array de 100 números del 0 al 100: \", array)\n",
    "print(\"Media: \", media)\n",
    "print(\"Varianza: \", varianza)"
   ]
  },
  {
   "cell_type": "markdown",
   "metadata": {
    "id": "defd8qSHXRan"
   },
   "source": [
    "Ejercicio 6: Calcular la media de un arreglo usando np.sum"
   ]
  },
  {
   "cell_type": "code",
   "execution_count": 58,
   "metadata": {
    "id": "CnUj4gWUXUkc"
   },
   "outputs": [
    {
     "name": "stdout",
     "output_type": "stream",
     "text": [
      "[14 49 93 51  2 68 89 44 49 79 56 79 65 55 37 19 37 51 34 18 99 87 71 67\n",
      " 73 44 41  4 41 47 44 30 12 45  7 10 72 87 87 48 45 47 25 85 12 95 11 42\n",
      " 86 68 75 14 17 97 66 23  8 39 84 41 92 20 75 96 42 17 35 23 52 17 64 40\n",
      " 96 47 93 99 44 67 67 97 98 82 59 34 51 39  7 99 41  9 19 99 42 42 17 17\n",
      " 60 53 12 55]\n",
      "5103\n",
      "100\n",
      "51.03\n"
     ]
    }
   ],
   "source": [
    "array6 = np.random.randint(0,100,100)\n",
    "\n",
    "suma = np.sum(array6) #suma de todos los elementos de array6\n",
    "\n",
    "cantidad_de_elementos = len(array6) \n",
    "\n",
    "media = suma / cantidad_de_elementos\n",
    "\n",
    "\n",
    "print(array6)\n",
    "print(suma)\n",
    "print(cantidad_de_elementos)\n",
    "print(media)"
   ]
  },
  {
   "cell_type": "markdown",
   "metadata": {
    "id": "0Ct9HXSAXU9Q"
   },
   "source": [
    "Ejercicio 7: Calcular la varianza de un arreglo usando np.sum y np.mean\n"
   ]
  },
  {
   "cell_type": "code",
   "execution_count": 67,
   "metadata": {
    "id": "OkaAOjTiXW0R"
   },
   "outputs": [
    {
     "name": "stdout",
     "output_type": "stream",
     "text": [
      "[ 8 85 59 23  6  2 36 95 23 71 59 23 47 95 17 81 13 78 24 16 73 34 43  4\n",
      " 19 26 81 72 71 91 90 23 39 19 95 33 21 37 89 44 41 74 15 87 19 80 85 14\n",
      " 25 40  3 24  7 95 47 58 52 67 16  7 46 31 15 72 29 59 73 64 16 57 57  5\n",
      " 83 69 11 58 79 76 64 96 71 71 73 70 57 76 92  3 65 37 59 61 88 76 37 50\n",
      " 96 23 53 28]\n",
      "Media:  49.67\n",
      "Suma diferencias de cuadrados:  81340.11\n",
      "Varianza hecha a mano:  813.4011\n",
      "Varianza hecha con Numpy:  813.4011\n"
     ]
    }
   ],
   "source": [
    "array7 = np.random.randint(0,100,100) \n",
    "\n",
    "media = np.mean(array7)\n",
    "\n",
    "suma_cuadrados_diferencias = np.sum((array7 - media)**2)\n",
    "\n",
    "varianza_a_mano = suma_cuadrados_diferencias / len(array7)\n",
    "\n",
    "varianza_numpy = np.var(array7)\n",
    "\n",
    "print(array7)\n",
    "print(\"Media: \", media)\n",
    "print(\"Suma diferencias de cuadrados: \", suma_cuadrados_diferencias)\n",
    "print(\"Varianza hecha a mano: \", varianza_a_mano)\n",
    "print(\"Varianza hecha con Numpy: \", varianza_numpy)"
   ]
  },
  {
   "cell_type": "markdown",
   "metadata": {
    "id": "S0ZGhdQTXXMx"
   },
   "source": [
    "Ejercicio 8: Crear un array de números aleatorios usando np.random.randn."
   ]
  },
  {
   "cell_type": "code",
   "execution_count": 7,
   "metadata": {
    "colab": {
     "base_uri": "https://localhost:8080/"
    },
    "id": "_32pXnhb6vZi",
    "outputId": "e3c9128d-ea0c-486d-dddc-4ee994f31104"
   },
   "outputs": [
    {
     "data": {
      "text/plain": [
       "array([[-1.51315315,  0.7688828 , -0.15695816,  0.43418102]])"
      ]
     },
     "execution_count": 7,
     "metadata": {},
     "output_type": "execute_result"
    }
   ],
   "source": [
    "import numpy as np\n",
    "\n",
    "np.random.randn(1,4)"
   ]
  }
 ],
 "metadata": {
  "colab": {
   "provenance": []
  },
  "kernelspec": {
   "display_name": "Python 3 (ipykernel)",
   "language": "python",
   "name": "python3"
  },
  "language_info": {
   "codemirror_mode": {
    "name": "ipython",
    "version": 3
   },
   "file_extension": ".py",
   "mimetype": "text/x-python",
   "name": "python",
   "nbconvert_exporter": "python",
   "pygments_lexer": "ipython3",
   "version": "3.11.2"
  }
 },
 "nbformat": 4,
 "nbformat_minor": 4
}
